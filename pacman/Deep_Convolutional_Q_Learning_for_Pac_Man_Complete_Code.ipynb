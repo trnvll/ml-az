{
 "cells": [
  {
   "cell_type": "markdown",
   "source": [
    "# Deep Convolutional Q-Learning for Pac-Man"
   ],
   "metadata": {
    "id": "EAiHVEoWHy_D"
   }
  },
  {
   "cell_type": "markdown",
   "source": [
    "## Part 0 - Installing the required packages and importing the libraries"
   ],
   "metadata": {
    "id": "tjO1aK3Ddjs5"
   }
  },
  {
   "cell_type": "markdown",
   "source": [
    "### Installing Gymnasium"
   ],
   "metadata": {
    "id": "NwdRB-ZLdrAV"
   }
  },
  {
   "cell_type": "code",
   "execution_count": 1,
   "metadata": {
    "id": "dbnq3XpoKa_7",
    "colab": {
     "base_uri": "https://localhost:8080/"
    },
    "outputId": "fe9d1a88-2931-4986-d34f-f17002bb3c37",
    "ExecuteTime": {
     "end_time": "2024-04-07T15:07:42.454137Z",
     "start_time": "2024-04-07T15:06:54.978685Z"
    }
   },
   "outputs": [
    {
     "name": "stdout",
     "output_type": "stream",
     "text": [
      "Collecting package metadata (current_repodata.json): done\r\n",
      "Solving environment: done\r\n",
      "\r\n",
      "\r\n",
      "==> WARNING: A newer version of conda exists. <==\r\n",
      "  current version: 23.7.4\r\n",
      "  latest version: 24.3.0\r\n",
      "\r\n",
      "Please update conda by running\r\n",
      "\r\n",
      "    $ conda update -n base -c defaults conda\r\n",
      "\r\n",
      "Or to minimize the number of packages updated during conda update use\r\n",
      "\r\n",
      "     conda install conda=24.3.0\r\n",
      "\r\n",
      "\r\n",
      "\r\n",
      "# All requested packages already installed.\r\n",
      "\r\n",
      "Collecting package metadata (current_repodata.json): done\r\n",
      "Solving environment: done\r\n",
      "\r\n",
      "\r\n",
      "==> WARNING: A newer version of conda exists. <==\r\n",
      "  current version: 23.7.4\r\n",
      "  latest version: 24.3.0\r\n",
      "\r\n",
      "Please update conda by running\r\n",
      "\r\n",
      "    $ conda update -n base -c defaults conda\r\n",
      "\r\n",
      "Or to minimize the number of packages updated during conda update use\r\n",
      "\r\n",
      "     conda install conda=24.3.0\r\n",
      "\r\n",
      "\r\n",
      "\r\n",
      "# All requested packages already installed.\r\n",
      "\r\n",
      "fish: Unknown command: apt-get\r\n",
      "fish: \r\n",
      "apt-get install -y swig\r\n",
      "^\r\n",
      "Collecting package metadata (current_repodata.json): done\r\n",
      "Solving environment: done\r\n",
      "\r\n",
      "\r\n",
      "==> WARNING: A newer version of conda exists. <==\r\n",
      "  current version: 23.7.4\r\n",
      "  latest version: 24.3.0\r\n",
      "\r\n",
      "Please update conda by running\r\n",
      "\r\n",
      "    $ conda update -n base -c defaults conda\r\n",
      "\r\n",
      "Or to minimize the number of packages updated during conda update use\r\n",
      "\r\n",
      "     conda install conda=24.3.0\r\n",
      "\r\n",
      "\r\n",
      "\r\n",
      "# All requested packages already installed.\r\n",
      "\r\n"
     ]
    }
   ],
   "source": [
    "!conda install gymnasium\n",
    "!conda install \"gymnasium[atari, accept-rom-license]\"\n",
    "!apt-get install -y swig\n",
    "!conda install gymnasium[box2d]"
   ]
  },
  {
   "cell_type": "markdown",
   "source": [
    "### Importing the libraries"
   ],
   "metadata": {
    "id": "H-wes4LZdxdd"
   }
  },
  {
   "cell_type": "code",
   "execution_count": 2,
   "metadata": {
    "id": "Ho_25-9_9qnu",
    "ExecuteTime": {
     "end_time": "2024-04-07T15:07:43.407589Z",
     "start_time": "2024-04-07T15:07:42.455810Z"
    }
   },
   "outputs": [],
   "source": [
    "import os\n",
    "import random\n",
    "import numpy as np\n",
    "import torch\n",
    "import torch.nn as nn\n",
    "import torch.optim as optim\n",
    "import torch.nn.functional as F\n",
    "from collections import deque\n",
    "from pipe import select\n",
    "from torch.utils.data import DataLoader, TensorDataset"
   ]
  },
  {
   "cell_type": "markdown",
   "source": [
    "## Part 1 - Building the AI"
   ],
   "metadata": {
    "id": "m7wa0ft8e3M_"
   }
  },
  {
   "cell_type": "markdown",
   "source": [
    "### Creating the architecture of the Neural Network"
   ],
   "metadata": {
    "id": "dlYVpVdHe-i6"
   }
  },
  {
   "cell_type": "code",
   "source": [
    "class Network(nn.Module):\n",
    "\n",
    "  def __init__(self, action_size, seed = 42):\n",
    "    super(Network, self).__init__()\n",
    "    self.seed = torch.manual_seed(seed)\n",
    "    self.conv1 = nn.Conv2d(3, 32, kernel_size = 8, stride = 4)\n",
    "    self.bn1 = nn.BatchNorm2d(32)\n",
    "    self.conv2 = nn.Conv2d(32, 64, kernel_size = 4, stride = 2)\n",
    "    self.bn2 = nn.BatchNorm2d(64)\n",
    "    self.conv3 = nn.Conv2d(64, 64, kernel_size = 3, stride = 1)\n",
    "    self.bn3 = nn.BatchNorm2d(64)\n",
    "    self.conv4 = nn.Conv2d(64, 128, kernel_size = 3, stride = 1)\n",
    "    self.bn4 = nn.BatchNorm2d(128)\n",
    "    self.fc1 = nn.Linear(10 * 10 * 128, 512)\n",
    "    self.fc2 = nn.Linear(512, 256)\n",
    "    self.fc3 = nn.Linear(256, action_size)\n",
    "\n",
    "  def forward(self, state):\n",
    "    x = state | select(self.conv1) | select(self.bn1) | select(F.relu)\n",
    "    x = x | select(self.conv2) | select(self.bn2) | select(F.relu)\n",
    "    x = x | select(self.conv3) | select(self.bn3) | select(F.relu)\n",
    "    x = x | select(self.conv4) | select(self.bn4) | select(F.relu)\n",
    "    x = x.size(0), -1 | select(x.view)\n",
    "    x = x | select(self.fc1) | select(F.relu)\n",
    "    x = x | select(self.fc2) | select(F.relu)\n",
    "    return x | select(self.fc3)\n",
    "    \n",
    "      "
   ],
   "metadata": {
    "id": "4ZW9ybp2S-op",
    "ExecuteTime": {
     "end_time": "2024-04-07T15:07:43.414649Z",
     "start_time": "2024-04-07T15:07:43.409328Z"
    }
   },
   "execution_count": 3,
   "outputs": []
  },
  {
   "cell_type": "markdown",
   "source": [
    "## Part 2 - Training the AI"
   ],
   "metadata": {
    "id": "rUvCfE_mhwo2"
   }
  },
  {
   "cell_type": "markdown",
   "source": [
    "### Setting up the environment"
   ],
   "metadata": {
    "id": "WWCDPF22lkwc"
   }
  },
  {
   "cell_type": "code",
   "source": [
    "import gymnasium as gym\n",
    "\n",
    "env = gym.make('MsPacmanDeterministic-v4', full_action_space=False)\n",
    "state_shape = env.observation_space.shape\n",
    "state_size = state_shape[0]\n",
    "n_actions = env.action_space.n\n",
    "print(f\"State shape: {state_shape}\")\n",
    "print(f\"State size: {state_size}\")\n",
    "print(f\"Number of actions: {n_actions}\")"
   ],
   "metadata": {
    "colab": {
     "base_uri": "https://localhost:8080/"
    },
    "id": "qYLnz2Z6PqeU",
    "outputId": "e8c43b31-b4a1-4650-ad15-562d5e27f151",
    "ExecuteTime": {
     "end_time": "2024-04-07T15:08:00.224228Z",
     "start_time": "2024-04-07T15:08:00.075953Z"
    }
   },
   "execution_count": 7,
   "outputs": [
    {
     "name": "stdout",
     "output_type": "stream",
     "text": [
      "State shape: (210, 160, 3)\n",
      "State size: 210\n",
      "Number of actions: 9\n"
     ]
    },
    {
     "name": "stderr",
     "output_type": "stream",
     "text": [
      "A.L.E: Arcade Learning Environment (version 0.8.1+53f58b7)\n",
      "[Powered by Stella]\n"
     ]
    }
   ]
  },
  {
   "cell_type": "markdown",
   "source": [
    "### Initializing the hyperparameters"
   ],
   "metadata": {
    "id": "Bx6IdX3ciDqH"
   }
  },
  {
   "cell_type": "code",
   "source": [
    "lr = 5e-4\n",
    "minibatch_size = 64\n",
    "discount_factor = 0.99"
   ],
   "metadata": {
    "id": "pQHWLxOwrb0J",
    "colab": {
     "base_uri": "https://localhost:8080/"
    },
    "outputId": "9716170b-77bd-4767-81eb-4be906fbb5ea",
    "ExecuteTime": {
     "end_time": "2024-04-07T15:07:43.550477Z",
     "start_time": "2024-04-07T15:07:43.549005Z"
    }
   },
   "execution_count": 4,
   "outputs": []
  },
  {
   "cell_type": "markdown",
   "source": [
    "### Preprocessing the frames"
   ],
   "metadata": {
    "id": "U2bDShIEkA5V"
   }
  },
  {
   "cell_type": "code",
   "source": [
    "from PIL import Image\n",
    "from torchvision import transforms\n",
    "\n",
    "def preprocess_frame(frame):\n",
    "  frame = Image.fromarray(frame)\n",
    "  preprocess = transforms.Compose([transforms.Resize((128, 128)), transforms.ToTensor()])\n",
    "  return preprocess(frame).unsqueeze(0)"
   ],
   "metadata": {
    "id": "VporQhgMDygL",
    "ExecuteTime": {
     "end_time": "2024-04-07T15:07:44.122188Z",
     "start_time": "2024-04-07T15:07:43.551330Z"
    }
   },
   "execution_count": 5,
   "outputs": []
  },
  {
   "cell_type": "markdown",
   "source": [
    "### Implementing the DCQN class"
   ],
   "metadata": {
    "id": "imMdSO-HAWra"
   }
  },
  {
   "cell_type": "code",
   "source": [
    "class Agent():\n",
    "\n",
    "    def __init__(self, action_size):\n",
    "        self.device = torch.device('cuda:0' if torch.cuda.is_available() else 'cpu')\n",
    "        self.state_size = state_size\n",
    "        self.action_size = action_size\n",
    "        self.local_qnetwork = Network(action_size).to(self.device)\n",
    "        self.target_qnetwork = Network(action_size).to(self.device)\n",
    "        self.optimizer = optim.Adam(self.local_qnetwork.parameters(), lr=lr)\n",
    "        self.memory = deque(maxlen=10_000)\n",
    "\n",
    "    def step(self, state, action, reward, next_state, done):\n",
    "        state = preprocess_frame(state)\n",
    "        next_state = preprocess_frame(next_state)\n",
    "        self.memory.append((state, action, reward, next_state, done))\n",
    "        if len(self.memory) > minibatch_size:\n",
    "            xps = random.sample(self.memory, k=minibatch_size)\n",
    "            self.learn(xps, discount_factor)\n",
    "\n",
    "    def act(self, state, epsilon=0.):\n",
    "        state = preprocess_frame(state).to(self.device)\n",
    "        self.local_qnetwork.eval()\n",
    "        with torch.no_grad():\n",
    "            action_values = self.local_qnetwork(state)\n",
    "        self.local_qnetwork.train()\n",
    "\n",
    "        if random.random() > epsilon:\n",
    "            return np.argmax(action_values.cpu().data.numpy())\n",
    "        else:\n",
    "            return random.choice(np.arange(self.action_size))\n",
    "\n",
    "    def learn(self, xps, discount_factor):\n",
    "        states, actions, rewards, next_states, dones = zip(*xps)\n",
    "        \n",
    "        states = torch.from_numpy(np.vstack(states)).float().to(self.device)\n",
    "        actions = torch.from_numpy(np.vstack(actions)).long().to(self.device)\n",
    "        rewards = torch.from_numpy(np.vstack(rewards)).float().to(self.device)\n",
    "        next_states = torch.from_numpy(np.vstack(next_states)).float().to(self.device)\n",
    "        dones = torch.from_numpy(np.vstack(dones).astype(np.uint8)).float().to(self.device)\n",
    "        \n",
    "        next_q_targets = self.target_qnetwork(next_states).detach().max(1)[0].unsqueeze(1)\n",
    "        q_targets = rewards + (discount_factor * next_q_targets * (1 - dones))\n",
    "        q_expected = self.local_qnetwork(states).gather(1, actions)\n",
    "        loss = F.mse_loss(q_expected, q_targets)\n",
    "        self.optimizer.zero_grad()\n",
    "        loss.backward()\n",
    "        self.optimizer.step()"
   ],
   "metadata": {
    "id": "N7dwS2q2wupJ",
    "colab": {
     "base_uri": "https://localhost:8080/"
    },
    "outputId": "a2c2d99d-760c-47fb-c21a-546230e9403d",
    "ExecuteTime": {
     "end_time": "2024-04-07T15:07:44.124891Z",
     "start_time": "2024-04-07T15:07:44.122975Z"
    }
   },
   "execution_count": 5,
   "outputs": []
  },
  {
   "cell_type": "markdown",
   "source": [
    "### Initializing the DCQN agent"
   ],
   "metadata": {
    "id": "yUg95iBpAwII"
   }
  },
  {
   "cell_type": "markdown",
   "source": [
    "### Training the DCQN agent"
   ],
   "metadata": {
    "id": "CK6Zt_gNmHvm"
   }
  },
  {
   "cell_type": "code",
   "source": [],
   "metadata": {
    "id": "XvBh4TLjIfz2",
    "colab": {
     "base_uri": "https://localhost:8080/"
    },
    "outputId": "732fc6f1-6f78-4348-f888-b170f2bbcfb3",
    "ExecuteTime": {
     "end_time": "2024-04-07T15:07:44.129765Z",
     "start_time": "2024-04-07T15:07:44.127973Z"
    }
   },
   "execution_count": 5,
   "outputs": []
  },
  {
   "cell_type": "markdown",
   "source": [
    "## Part 3 - Visualizing the results"
   ],
   "metadata": {
    "id": "-0WhhBV8nQdf"
   }
  },
  {
   "cell_type": "code",
   "execution_count": 6,
   "metadata": {
    "id": "cb9nVvU2Okhk",
    "colab": {
     "base_uri": "https://localhost:8080/",
     "height": 458
    },
    "outputId": "c70e6829-1c12-4ea3-8a3b-eb57308a9056",
    "ExecuteTime": {
     "end_time": "2024-04-07T15:07:44.141649Z",
     "start_time": "2024-04-07T15:07:44.131576Z"
    }
   },
   "outputs": [],
   "source": [
    "import glob\n",
    "import io\n",
    "import base64\n",
    "import imageio\n",
    "from IPython.display import HTML, display\n",
    "from gymnasium.wrappers.monitoring.video_recorder import VideoRecorder"
   ]
  }
 ],
 "metadata": {
  "colab": {
   "provenance": [],
   "machine_shape": "hm",
   "gpuType": "V100"
  },
  "kernelspec": {
   "name": "python3",
   "language": "python",
   "display_name": "Python 3 (ipykernel)"
  },
  "language_info": {
   "name": "python"
  },
  "accelerator": "GPU"
 },
 "nbformat": 4,
 "nbformat_minor": 0
}
