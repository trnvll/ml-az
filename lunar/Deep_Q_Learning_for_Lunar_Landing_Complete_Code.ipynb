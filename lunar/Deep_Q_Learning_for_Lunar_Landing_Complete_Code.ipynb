{
 "cells": [
  {
   "cell_type": "markdown",
   "metadata": {
    "id": "LbZcI9ZXHl3a"
   },
   "source": [
    "# Deep Q-Learning for Lunar Landing"
   ]
  },
  {
   "cell_type": "markdown",
   "metadata": {
    "id": "E8yPRjteXgPb"
   },
   "source": [
    "## Part 0 - Installing the required packages and importing the libraries"
   ]
  },
  {
   "cell_type": "markdown",
   "metadata": {
    "id": "slEm5teGWjWU"
   },
   "source": [
    "### Installing Gymnasium"
   ]
  },
  {
   "cell_type": "code",
   "execution_count": 15,
   "metadata": {
    "id": "dbnq3XpoKa_7",
    "colab": {
     "base_uri": "https://localhost:8080/"
    },
    "outputId": "c197c381-41d8-4347-cdcf-133c108cabb4",
    "executionInfo": {
     "status": "ok",
     "timestamp": 1710771478413,
     "user_tz": -60,
     "elapsed": 82713,
     "user": {
      "displayName": "Alexander Törnvall",
      "userId": "10880584186745945959"
     }
    },
    "ExecuteTime": {
     "end_time": "2024-03-31T15:16:50.515828Z",
     "start_time": "2024-03-31T15:16:48.504702Z"
    }
   },
   "outputs": [
    {
     "name": "stdout",
     "output_type": "stream",
     "text": [
      "\u001B[1;31merror\u001B[0m: \u001B[1mexternally-managed-environment\u001B[0m\r\n",
      "\r\n",
      "\u001B[31m×\u001B[0m This environment is externally managed\r\n",
      "\u001B[31m╰─>\u001B[0m To install Python packages system-wide, try brew install\r\n",
      "\u001B[31m   \u001B[0m xyz, where xyz is the package you are trying to\r\n",
      "\u001B[31m   \u001B[0m install.\r\n",
      "\u001B[31m   \u001B[0m \r\n",
      "\u001B[31m   \u001B[0m If you wish to install a non-brew-packaged Python package,\r\n",
      "\u001B[31m   \u001B[0m create a virtual environment using python3 -m venv path/to/venv.\r\n",
      "\u001B[31m   \u001B[0m Then use path/to/venv/bin/python and path/to/venv/bin/pip.\r\n",
      "\u001B[31m   \u001B[0m \r\n",
      "\u001B[31m   \u001B[0m If you wish to install a non-brew packaged Python application,\r\n",
      "\u001B[31m   \u001B[0m it may be easiest to use pipx install xyz, which will manage a\r\n",
      "\u001B[31m   \u001B[0m virtual environment for you. Make sure you have pipx installed.\r\n",
      "\r\n",
      "\u001B[1;35mnote\u001B[0m: If you believe this is a mistake, please contact your Python installation or OS distribution provider. You can override this, at the risk of breaking your Python installation or OS, by passing --break-system-packages.\r\n",
      "\u001B[1;36mhint\u001B[0m: See PEP 668 for the detailed specification.\r\n",
      "\u001B[1;31merror\u001B[0m: \u001B[1mexternally-managed-environment\u001B[0m\r\n",
      "\r\n",
      "\u001B[31m×\u001B[0m This environment is externally managed\r\n",
      "\u001B[31m╰─>\u001B[0m To install Python packages system-wide, try brew install\r\n",
      "\u001B[31m   \u001B[0m xyz, where xyz is the package you are trying to\r\n",
      "\u001B[31m   \u001B[0m install.\r\n",
      "\u001B[31m   \u001B[0m \r\n",
      "\u001B[31m   \u001B[0m If you wish to install a non-brew-packaged Python package,\r\n",
      "\u001B[31m   \u001B[0m create a virtual environment using python3 -m venv path/to/venv.\r\n",
      "\u001B[31m   \u001B[0m Then use path/to/venv/bin/python and path/to/venv/bin/pip.\r\n",
      "\u001B[31m   \u001B[0m \r\n",
      "\u001B[31m   \u001B[0m If you wish to install a non-brew packaged Python application,\r\n",
      "\u001B[31m   \u001B[0m it may be easiest to use pipx install xyz, which will manage a\r\n",
      "\u001B[31m   \u001B[0m virtual environment for you. Make sure you have pipx installed.\r\n",
      "\r\n",
      "\u001B[1;35mnote\u001B[0m: If you believe this is a mistake, please contact your Python installation or OS distribution provider. You can override this, at the risk of breaking your Python installation or OS, by passing --break-system-packages.\r\n",
      "\u001B[1;36mhint\u001B[0m: See PEP 668 for the detailed specification.\r\n",
      "fish: Unknown command: apt-get\r\n",
      "fish: \r\n",
      "apt-get install -y swig\r\n",
      "^\r\n",
      "\u001B[1;31merror\u001B[0m: \u001B[1mexternally-managed-environment\u001B[0m\r\n",
      "\r\n",
      "\u001B[31m×\u001B[0m This environment is externally managed\r\n",
      "\u001B[31m╰─>\u001B[0m To install Python packages system-wide, try brew install\r\n",
      "\u001B[31m   \u001B[0m xyz, where xyz is the package you are trying to\r\n",
      "\u001B[31m   \u001B[0m install.\r\n",
      "\u001B[31m   \u001B[0m \r\n",
      "\u001B[31m   \u001B[0m If you wish to install a non-brew-packaged Python package,\r\n",
      "\u001B[31m   \u001B[0m create a virtual environment using python3 -m venv path/to/venv.\r\n",
      "\u001B[31m   \u001B[0m Then use path/to/venv/bin/python and path/to/venv/bin/pip.\r\n",
      "\u001B[31m   \u001B[0m \r\n",
      "\u001B[31m   \u001B[0m If you wish to install a non-brew packaged Python application,\r\n",
      "\u001B[31m   \u001B[0m it may be easiest to use pipx install xyz, which will manage a\r\n",
      "\u001B[31m   \u001B[0m virtual environment for you. Make sure you have pipx installed.\r\n",
      "\r\n",
      "\u001B[1;35mnote\u001B[0m: If you believe this is a mistake, please contact your Python installation or OS distribution provider. You can override this, at the risk of breaking your Python installation or OS, by passing --break-system-packages.\r\n",
      "\u001B[1;36mhint\u001B[0m: See PEP 668 for the detailed specification.\r\n"
     ]
    }
   ],
   "source": [
    "!pip install gymnasium\n",
    "!pip install \"gymnasium[atari, accept-rom-license]\"\n",
    "!apt-get install -y swig\n",
    "!pip install gymnasium[box2d]"
   ]
  },
  {
   "cell_type": "markdown",
   "metadata": {
    "id": "brqiMN3UW9T9"
   },
   "source": [
    "### Importing the libraries"
   ]
  },
  {
   "cell_type": "code",
   "execution_count": 25,
   "metadata": {
    "id": "mZaKXP_aMl9O",
    "ExecuteTime": {
     "end_time": "2024-03-31T15:45:49.254622Z",
     "start_time": "2024-03-31T15:45:49.251595Z"
    }
   },
   "outputs": [],
   "source": [
    "import os\n",
    "import random\n",
    "import numpy as np\n",
    "import torch\n",
    "import torch.nn as nn\n",
    "import torch.optim as optim\n",
    "import torch.nn.functional as F\n",
    "import torch.autograd as autograd\n",
    "from torch.autograd import Variable\n",
    "from collections import deque, namedtuple"
   ]
  },
  {
   "cell_type": "markdown",
   "metadata": {
    "id": "EzlDKXvkXzGI"
   },
   "source": [
    "## Part 1 - Building the AI"
   ]
  },
  {
   "cell_type": "markdown",
   "metadata": {
    "id": "UtG6Zc83YYy3"
   },
   "source": [
    "### Creating the architecture of the Neural Network"
   ]
  },
  {
   "cell_type": "code",
   "source": [
    "class Network(nn.Module):\n",
    "\n",
    "    def __init__(self, state_size, action_size, seed = 42):\n",
    "        super(Network, self).__init__()\n",
    "        self.seed = torch.manual_seed(seed)\n",
    "        self.fc1 = nn.Linear(state_size, 64)\n",
    "        self.fc2 = nn.Linear(64, 64)\n",
    "        self.fc3 = nn.Linear(64, action_size)\n",
    "\n",
    "    def forward(self, state):\n",
    "        x = self.fc1(state)\n",
    "        x = F.relu(x)\n",
    "        x = self.fc2(x)\n",
    "        x = F.relu(x)\n",
    "        return self.fc3(x)\n"
   ],
   "metadata": {
    "id": "h9oUxasLEJx9",
    "ExecuteTime": {
     "end_time": "2024-03-31T15:45:51.332262Z",
     "start_time": "2024-03-31T15:45:51.328089Z"
    }
   },
   "execution_count": 26,
   "outputs": []
  },
  {
   "cell_type": "markdown",
   "metadata": {
    "id": "UxVrBnFWZKb1"
   },
   "source": [
    "## Part 2 - Training the AI"
   ]
  },
  {
   "cell_type": "markdown",
   "metadata": {
    "id": "T364fz9qZb2j"
   },
   "source": [
    "### Setting up the environment"
   ]
  },
  {
   "cell_type": "code",
   "source": [
    "import gymnasium as gym\n",
    "\n",
    "env = gym.make(\"LunarLander-v2\")\n",
    "state_shape = env.observation_space.shape\n",
    "state_size = env.observation_space.shape[0]\n",
    "n_actions = env.action_space.n\n",
    "\n",
    "print(f\"state shape {state_shape}\")\n",
    "print(f\"state size {state_size}\")\n",
    "print(f\"n actions {n_actions}\")"
   ],
   "metadata": {
    "colab": {
     "base_uri": "https://localhost:8080/"
    },
    "id": "NUWiCFWySXIh",
    "outputId": "0bb635e5-0ef7-4b7f-b101-c2060b342f95",
    "ExecuteTime": {
     "end_time": "2024-03-31T15:45:52.959014Z",
     "start_time": "2024-03-31T15:45:52.955240Z"
    }
   },
   "execution_count": 27,
   "outputs": [
    {
     "name": "stdout",
     "output_type": "stream",
     "text": [
      "state shape (8,)\n",
      "state size 8\n",
      "n actions 4\n"
     ]
    }
   ]
  },
  {
   "cell_type": "markdown",
   "metadata": {
    "id": "c_dZmOIvZgj-"
   },
   "source": [
    "### Initializing the hyperparameters"
   ]
  },
  {
   "cell_type": "code",
   "source": [
    "lr = 5e-4\n",
    "minibatch_size = 100\n",
    "discount_factor = 0.99\n",
    "replay_buffer_size = int(1e5)\n",
    "interpolation_parameter = 1e-3"
   ],
   "metadata": {
    "id": "bNKnUzj1Oqz8",
    "colab": {
     "base_uri": "https://localhost:8080/"
    },
    "outputId": "efd55f04-e9c6-4d16-ea27-5f650b70d526",
    "ExecuteTime": {
     "end_time": "2024-03-31T15:45:54.100349Z",
     "start_time": "2024-03-31T15:45:54.098108Z"
    }
   },
   "execution_count": 28,
   "outputs": []
  },
  {
   "cell_type": "markdown",
   "metadata": {
    "id": "8hD_Vs-bYnip"
   },
   "source": [
    "### Implementing Experience Replay"
   ]
  },
  {
   "cell_type": "code",
   "source": [
    "class ReplayMemory(object):\n",
    "    \n",
    "    def __init__(self, capacity):\n",
    "        self.device = torch.device('cuda:0' if torch.cuda.is_available() else 'cpu')\n",
    "        self.capacity = capacity\n",
    "        self.memory = []\n",
    "        \n",
    "        \n",
    "    def push(self, event):\n",
    "        self.memory.append(event)\n",
    "        if len(self.memory) > self.capacity:\n",
    "            del self.memory[0]\n",
    "            \n",
    "    def sample(self, batch_size):\n",
    "        xps = random.sample(self.memory, k=batch_size)\n",
    "        states = torch.from_numpy(np.vstack([xp[0] for xp in xps if xp is not None])).float().to(self.device)\n",
    "        actions = torch.from_numpy(np.vstack([xp[1] for xp in xps if xp is not None])).long().to(self.device)\n",
    "        rewards = torch.from_numpy(np.vstack([xp[2] for xp in xps if xp is not None])).float().to(self.device)\n",
    "        next_states = torch.from_numpy(np.vstack([xp[3] for xp in xps if xp is not None])).float().to(self.device)\n",
    "        dones = torch.from_numpy(np.vstack([xp[4] for xp in xps if xp is not None]).astype(np.uint8)).float().to(self.device)\n",
    "        \n",
    "        return states, next_states, actions, rewards, dones\n",
    "\n"
   ],
   "metadata": {
    "id": "QaEChoj_uRoe",
    "ExecuteTime": {
     "end_time": "2024-03-31T15:45:55.372701Z",
     "start_time": "2024-03-31T15:45:55.368157Z"
    }
   },
   "execution_count": 29,
   "outputs": []
  },
  {
   "cell_type": "markdown",
   "metadata": {
    "id": "JmEkbFbUY6Jt"
   },
   "source": [
    "### Implementing the DQN class"
   ]
  },
  {
   "cell_type": "code",
   "source": [
    "class Agent():\n",
    "\n",
    "    def __init__(self, state_size, action_size):\n",
    "        self.device = torch.device('cuda:0' if torch.cuda.is_available() else 'cpu')\n",
    "        self.state_size = state_size\n",
    "        self.action_size = action_size\n",
    "        self.local_qnetwork = Network(state_size, action_size).to(self.device)\n",
    "        self.target_qnetwork = Network(state_size, action_size).to(self.device)\n",
    "        self.optimizer = optim.Adam(self.local_qnetwork.parameters(), lr=lr)\n",
    "        self.memory = ReplayMemory(replay_buffer_size)\n",
    "        self.t_step = 0\n",
    "\n",
    "    def step(self, state, action, reward, next_state, done):\n",
    "        self.memory.push((state, action, reward, next_state, done))\n",
    "        self.t_step = (self.t_step + 1) % 4\n",
    "        if self.t_step == 0 and len(self.memory.memory) > minibatch_size:\n",
    "            xps = self.memory.sample(minibatch_size)\n",
    "            self.learn(xps, discount_factor)\n",
    "\n",
    "    def act(self, state, epsilon=0.0):\n",
    "        state = torch.from_numpy(state).float().unsqueeze(0).to(self.device)\n",
    "        self.local_qnetwork.eval()\n",
    "        with torch.no_grad():\n",
    "            action_values = self.local_qnetwork(state)\n",
    "        self.local_qnetwork.train()\n",
    "\n",
    "        if random.random() > epsilon:\n",
    "            return np.argmax(action_values.cpu().data.numpy())\n",
    "        else:\n",
    "            return random.choice(np.arange(self.action_size))\n",
    "\n",
    "    def learn(self, xps, discount_factor):\n",
    "        states, next_states, actions, rewards, dones = xps\n",
    "        next_q_targets = self.target_qnetwork(next_states).detach().max(1)[0].unsqueeze(1)\n",
    "        q_targets = rewards + (discount_factor * next_q_targets * (1 - dones))\n",
    "        q_expected = self.local_qnetwork(states).gather(1, actions)\n",
    "        loss = F.mse_loss(q_expected, q_targets)\n",
    "        self.optimizer.zero_grad()\n",
    "        loss.backward()\n",
    "        self.optimizer.step()\n",
    "        self.soft_update(self.local_qnetwork, self.target_qnetwork, interpolation_parameter)\n",
    "\n",
    "    def soft_update(self, local_model, target_model, interpolation_param):\n",
    "        for local_param, target_param in zip(local_model.parameters(), target_model.parameters()):\n",
    "            target_param.data.copy_(interpolation_param * local_param.data + (1.0 - interpolation_param) * target_param.data)\n"
   ],
   "metadata": {
    "id": "iokmjTKJ9E3U",
    "ExecuteTime": {
     "end_time": "2024-03-31T15:50:08.287480Z",
     "start_time": "2024-03-31T15:50:08.278834Z"
    }
   },
   "execution_count": 36,
   "outputs": []
  },
  {
   "cell_type": "markdown",
   "metadata": {
    "id": "o1tZElccZmf6"
   },
   "source": [
    "### Initializing the DQN agent"
   ]
  },
  {
   "cell_type": "code",
   "source": [
    "agent = Agent(state_size, action_size=n_actions)"
   ],
   "metadata": {
    "id": "cGbpJJvLjmIw",
    "ExecuteTime": {
     "end_time": "2024-03-31T15:50:10.029777Z",
     "start_time": "2024-03-31T15:50:10.026149Z"
    }
   },
   "execution_count": 37,
   "outputs": []
  },
  {
   "cell_type": "markdown",
   "source": [
    "### Training the DQN agent"
   ],
   "metadata": {
    "collapsed": false
   }
  },
  {
   "cell_type": "code",
   "source": [
    "n_episodes = 2_000\n",
    "max_n_timesteps_per_episode = 1_000\n",
    "epsilon_starting = 1.0\n",
    "epsilon_ending = 0.01\n",
    "epsilon_decay = 0.995\n",
    "epsilon = epsilon_starting\n",
    "scores_on_100_episodes = deque(maxlen=100)\n",
    "\n",
    "for episode in range(1, n_episodes + 1):\n",
    "    state, _ = env.reset()\n",
    "    score = 0\n",
    "    for t in range(max_n_timesteps_per_episode):\n",
    "        action = agent.act(state, epsilon)\n",
    "        next_state, reward, done, _, _ = env.step(action)\n",
    "        agent.step(state, action, reward, next_state, done)\n",
    "        \n",
    "        state = next_state\n",
    "        score += reward\n",
    "        \n",
    "        if done:\n",
    "            break\n",
    "\n",
    "    scores_on_100_episodes.append(score)\n",
    "    epsilon = max(epsilon_ending, epsilon * epsilon_decay)\n",
    "    \n",
    "    print('\\rEpisode {}\\tAverage score: {:.2f}'.format(episode, np.mean(scores_on_100_episodes)), end=\"\")\n",
    "    if episode % 100 == 0:\n",
    "        print('\\rEpisode {}\\tAverage score: {:.2f}'.format(episode, np.mean(scores_on_100_episodes)))\n",
    "        \n",
    "    if np.mean(scores_on_100_episodes) >= 200.0:\n",
    "        print('\\nEnvironment solved in {:d} episodes!\\tAverage score: {:.2f}'.format(episode - 100, np.mean(scores_on_100_episodes)))\n",
    "        torch.save(agent.local_qnetwork.state_dict(), 'checkpoint.pth')\n",
    "        break"
   ],
   "metadata": {
    "colab": {
     "base_uri": "https://localhost:8080/"
    },
    "id": "2ybZW6Im-Bwj",
    "outputId": "05de8469-e791-451a-fcbe-dbf2e0d76bc9",
    "ExecuteTime": {
     "end_time": "2024-03-31T15:54:33.380695Z",
     "start_time": "2024-03-31T15:53:42.486647Z"
    }
   },
   "execution_count": 39,
   "outputs": [
    {
     "name": "stdout",
     "output_type": "stream",
     "text": [
      "Episode 100\tAverage score: -105.47\n",
      "Episode 200\tAverage score: -28.643\n",
      "Episode 300\tAverage score: 56.856\n",
      "Episode 400\tAverage score: 187.80\n",
      "Episode 408\tAverage score: 200.37\n",
      "Environment solved in 308 episodes!\tAverage score: 200.37\n"
     ]
    }
   ]
  },
  {
   "cell_type": "markdown",
   "metadata": {
    "id": "O8CNwdOTcCoP"
   },
   "source": [
    "## Part 3 - Visualizing the results"
   ]
  },
  {
   "cell_type": "code",
   "execution_count": 50,
   "metadata": {
    "id": "cb9nVvU2Okhk",
    "colab": {
     "base_uri": "https://localhost:8080/",
     "height": 459
    },
    "outputId": "73e3621b-ae7a-4a3e-8513-2b3d18e59d79",
    "ExecuteTime": {
     "end_time": "2024-03-31T16:31:12.381261Z",
     "start_time": "2024-03-31T16:31:11.679593Z"
    }
   },
   "outputs": [
    {
     "name": "stderr",
     "output_type": "stream",
     "text": [
      "IMAGEIO FFMPEG_WRITER WARNING: input image is not divisible by macro_block_size=16, resizing from (600, 400) to (608, 400) to ensure video compatibility with most codecs and players. To prevent resizing, make your input image divisible by the macro_block_size or set the macro_block_size to 1 (risking incompatibility).\n"
     ]
    },
    {
     "data": {
      "text/plain": "<IPython.core.display.HTML object>",
      "text/html": "<video alt=\"test\" autoplay loop controls style=\"height:384px;\"><source src=\"data:video/mp4;base64,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\" /></video>"
     },
     "metadata": {},
     "output_type": "display_data"
    }
   ],
   "source": [
    "import glob\n",
    "import io\n",
    "import base64\n",
    "import imageio\n",
    "from IPython.display import HTML, display\n",
    "from gymnasium.wrappers.monitoring.video_recorder import VideoRecorder\n",
    "\n",
    "os.environ[\"IMAGEIO_FFMPEG_EXE\"] = \"/opt/homebrew/bin/ffmpeg\"\n",
    "\n",
    "def show_video_of_model(agent: Agent, env_name):\n",
    "    env = gym.make(env_name, render_mode='rgb_array')\n",
    "    state, _ = env.reset()\n",
    "    done = False\n",
    "    frames = []\n",
    "    while not done:\n",
    "        frame = env.render()\n",
    "        frames.append(frame)\n",
    "        action = agent.act(state)\n",
    "        state, reward, done, _, _ = env.step(action.item())\n",
    "    env.close()\n",
    "    imageio.mimsave('video.mp4', frames, fps=30)\n",
    "    \n",
    "show_video_of_model(agent, 'LunarLander-v2')\n",
    "\n",
    "def show_video():\n",
    "    video_list = glob.glob('*.mp4')\n",
    "    if len(video_list) > 0:\n",
    "        most_recent_vid = video_list[0]\n",
    "        video = io.open(most_recent_vid, 'r+b').read()\n",
    "        encoded = base64.b64encode(video)\n",
    "        display(HTML(data='''<video alt=\"test\" autoplay loop controls style=\"height:384px;\"><source src=\"data:video/mp4;base64,{0}\" /></video>'''.format(encoded.decode('ascii'))))\n",
    "    else:\n",
    "        print('Could not find video.')\n",
    "\n",
    "show_video()\n",
    "        \n",
    "    "
   ]
  },
  {
   "cell_type": "code",
   "outputs": [],
   "source": [],
   "metadata": {
    "collapsed": false
   }
  }
 ],
 "metadata": {
  "colab": {
   "provenance": []
  },
  "kernelspec": {
   "name": "python3",
   "language": "python",
   "display_name": "Python 3 (ipykernel)"
  },
  "language_info": {
   "name": "python"
  }
 },
 "nbformat": 4,
 "nbformat_minor": 0
}
